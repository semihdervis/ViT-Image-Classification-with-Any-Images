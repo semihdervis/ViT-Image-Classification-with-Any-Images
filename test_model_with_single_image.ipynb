{
 "cells": [
  {
   "cell_type": "code",
   "execution_count": 2,
   "metadata": {},
   "outputs": [
    {
     "name": "stderr",
     "output_type": "stream",
     "text": [
      "C:\\Users\\semih\\AppData\\Roaming\\Python\\Python312\\site-packages\\transformers\\models\\vit\\feature_extraction_vit.py:28: FutureWarning: The class ViTFeatureExtractor is deprecated and will be removed in version 5 of Transformers. Please use ViTImageProcessor instead.\n",
      "  warnings.warn(\n"
     ]
    },
    {
     "name": "stdout",
     "output_type": "stream",
     "text": [
      "Predicted label: No_DR\n",
      "Mild: 0.93%\n",
      "Moderate: 0.69%\n",
      "No_DR: 98.02%\n",
      "Proliferate_DR: 0.20%\n",
      "Severe: 0.16%\n"
     ]
    }
   ],
   "source": [
    "from transformers import ViTForImageClassification, ViTFeatureExtractor\n",
    "\n",
    "model_path = \"vit-base--v5\"\n",
    "model = ViTForImageClassification.from_pretrained(model_path)\n",
    "feature_extractor = ViTFeatureExtractor.from_pretrained(model_path)\n",
    "\n",
    "from PIL import Image\n",
    "import torch\n",
    "\n",
    "image = Image.open(r\"diabetic-retinopathy\\No_DR\\0a902c80d5da.png\")  # Replace with your image path\n",
    "inputs = feature_extractor(image, return_tensors=\"pt\")\n",
    "inputs = {k: v.to(model.device) for k, v in inputs.items()}  # Move inputs to the same device as the model\n",
    "\n",
    "with torch.no_grad():\n",
    "    logits = model(**inputs).logits\n",
    "\n",
    "predicted_label_index = logits.argmax(-1).item()\n",
    "predicted_label = model.config.id2label[predicted_label_index]\n",
    "print(f\"Predicted label: {predicted_label}\")\n",
    "\n",
    "logits.argmax(-1).item()\n",
    "\n",
    "import torch.nn.functional as F\n",
    "\n",
    "# ... (Your existing code)\n",
    "\n",
    "with torch.no_grad():\n",
    "    logits = model(**inputs).logits\n",
    "\n",
    "# Apply softmax to get probabilities\n",
    "probabilities = F.softmax(logits, dim=-1)\n",
    "\n",
    "# Multiply by 100 to get percentages\n",
    "percentages = probabilities * 100\n",
    "\n",
    "# Print the percentages for each class\n",
    "for i, percentage in enumerate(percentages[0]):\n",
    "    label = model.config.id2label[i]\n",
    "    print(f\"{label}: {percentage.item():.2f}%\")"
   ]
  }
 ],
 "metadata": {
  "kernelspec": {
   "display_name": "Python 3",
   "language": "python",
   "name": "python3"
  },
  "language_info": {
   "codemirror_mode": {
    "name": "ipython",
    "version": 3
   },
   "file_extension": ".py",
   "mimetype": "text/x-python",
   "name": "python",
   "nbconvert_exporter": "python",
   "pygments_lexer": "ipython3",
   "version": "3.12.2"
  }
 },
 "nbformat": 4,
 "nbformat_minor": 2
}
